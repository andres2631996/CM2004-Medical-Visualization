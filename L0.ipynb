{
 "cells": [
  {
   "cell_type": "markdown",
   "metadata": {},
   "source": [
    "# L0.1 - Python programming for MATLAB users\n",
    "\n",
    "This lab will provide an introduction to general programming in python. The introduced concepts are chosen in order to prepare you for the labs in this course. However, this tutorial does not aim at giving an exhaustive introduction to the Python programming language. Have a look at the references below for that purpose.\n",
    "\n",
    "Intended time: **ca. 2.0 hours**  <img src=\"python.png\" width=\"300px\" align=\"right\" style=\"display:inline\">\n",
    "\n",
    "Questions to: **fabiansi@kth.se**\n",
    "\n",
    "### References\n",
    "You may have a look at the following references if you want to dig deeper into Python for scientific programming.\n",
    "\n",
    " 1. https://github.com/jrjohansson/scientific-python-lectures (accessed - 6 Dec 2017)\n",
    "        -- a thorough series of tutorials to Python for scientific computing\n",
    " \n",
    " 2. http://researchcomputing.github.io/meetup_fall_2014/pdfs/fall2014_meetup13_python_matlab.pdf (accessed - 6 Dec 2017)\n",
    "        -- a good (and brief) introduction to Python contrasting it with Matlab\n",
    "\n",
    " 3. https://docs.python.org/3/ (acessed - 11 Jan 2018)\n",
    "        -- the official Python documentation (you can switch the python version in a dropdown in the page header)\n",
    "\n",
    "The following two references are another two posts comparing Python with Matlab which are not comprehensive but quick to read.\n",
    "\n",
    " * http://stsievert.com/blog/2015/09/01/matlab-to-python/ (accessed - 6 Dec 2017)\n",
    " * http://bastibe.de/2013-01-20-a-python-primer-for-matlab-users.html (accessed - 6 Dec 2017\n",
    " \n",
    "Please be aware that the content of this introduction is expected to be well understood in the labs. Prepare it carefully, since without a good knowledge of the explained concepts you might have a hard time in following the labs properly."
   ]
  },
  {
   "cell_type": "markdown",
   "metadata": {
    "collapsed": true
   },
   "source": [
    "## IPython notebooks\n",
    "\n",
    "The currently opened file (i.e. _L0.1.ipynb_ ;) ) is an IPython notebook. It consists of several _cells_ whoose content is either formatted text or runnable (Python) code. It is a useful tool to execute Python code for rapid prototyping or tutorial purposes like this, as you can mix descriptive text (and figures) with runnable code as well as the resulting outputs within one file.\n",
    "\n",
    "If a cell is marked it is surrounded by either a blue or a green frame. A green frame indicates that it is in editable mode currently, a blue one means it is not. You may use the arrow keys to navigate between cells when in blue mode. It is also possible to change the type of the cell (either 'markdown' text or executable code) when in blue mode.\n",
    "\n",
    "The most important commands for its usage are:\n",
    "\n",
    " * _Ctrl-Enter_  -  execute \\ process marked cell\n",
    " * _Shift-Enter_  -  execute \\ process marked cell and advance to the next cell\n",
    " * _arrow keys_  -  navigate between cells (in BLUE mode only)\n",
    " * _Esc_  -  exit editable (i.e. green) mode and switch to BLUE mode (in GREEN mode only)\n",
    " * _Enter_  -  enter editable mode (in BLUE mode only)\n",
    " * _m_  -  switch type of marked cell to _markdown_ (in BLUE mode only)\n",
    " * _y_  -  switch type of marked cell to _code_ (in BLUE mode only)"
   ]
  },
  {
   "cell_type": "markdown",
   "metadata": {},
   "source": [
    "# Variables\n",
    "\n",
    "In Python variables do not have a static type. That means you can assign anything to a variable name and the type of its content may change over time."
   ]
  },
  {
   "cell_type": "code",
   "execution_count": null,
   "metadata": {},
   "outputs": [],
   "source": [
    "# create variable 'var_1' and assign an integer value #\n",
    "var_1 = 1\n",
    "print(var_1, type(var_1))  # the 'print' function can take a list of arguments #\n",
    "\n",
    "# change the value of 'var_1' to a string #\n",
    "var_1 = \"b\"\n",
    "print(var_1, type(var_1))\n",
    "\n",
    "# change the value of 'var_1' to a bool #\n",
    "var_1 = False\n",
    "print(var_1, type(var_1))"
   ]
  },
  {
   "cell_type": "markdown",
   "metadata": {},
   "source": [
    "# Print function\n",
    "\n",
    "This will probably be the most frequently used function throughout the labs... ;)\n",
    "\n",
    "In order to print a variable (you can print any), just give it as an argument to the 'print' function (as seen above)."
   ]
  },
  {
   "cell_type": "code",
   "execution_count": null,
   "metadata": {},
   "outputs": [],
   "source": [
    "print(var_1)"
   ]
  },
  {
   "cell_type": "markdown",
   "metadata": {},
   "source": [
    "In case you want to print several, just extend the argument list. 'print' takes infinitely many arguments."
   ]
  },
  {
   "cell_type": "code",
   "execution_count": null,
   "metadata": {},
   "outputs": [],
   "source": [
    "print(var_1, var_1, var_1)"
   ]
  },
  {
   "cell_type": "markdown",
   "metadata": {},
   "source": [
    "If you want to format you output, you have to create a string in which you arrange your output. That string is then given to the 'print' function.\n",
    "\n",
    "In order to format that output string, you can use the formatting functionality for strings in Python (similar to Matlab's 'printf'). Use '{}' as placeholders in your string, then call a member function 'format' on the string object which receives an argument for each of the used placeholders."
   ]
  },
  {
   "cell_type": "code",
   "execution_count": null,
   "metadata": {
    "scrolled": true
   },
   "outputs": [],
   "source": [
    "s = \"The value of 'var_1' is '{}'.\".format(var_1)\n",
    "print(s)\n",
    "\n",
    "print(\"Concatenating the value of 'var_1' two times results in '{}{}'\".format(var_1, var_1))"
   ]
  },
  {
   "cell_type": "markdown",
   "metadata": {},
   "source": [
    "Similar to Matlab's 'printf' you can specify the decimal format in which you want to print numbers."
   ]
  },
  {
   "cell_type": "code",
   "execution_count": null,
   "metadata": {},
   "outputs": [],
   "source": [
    "var_2 = 1.2313\n",
    "print(\"The value of 'var_2' is {}\".format(var_2))\n",
    "print(\"The value of 'var_2' is {:1.2f}\".format(var_2))"
   ]
  },
  {
   "cell_type": "markdown",
   "metadata": {},
   "source": [
    "# Operators"
   ]
  },
  {
   "cell_type": "markdown",
   "metadata": {},
   "source": [
    "## Mathematical operators\n",
    "\n",
    "Most of the mathematical operators known from Matlab are available in Python, too. However some (e.g. exponentiation) are different!"
   ]
  },
  {
   "cell_type": "code",
   "execution_count": null,
   "metadata": {},
   "outputs": [],
   "source": [
    "a = 3\n",
    "b = 2\n",
    "\n",
    "# scalar addition #\n",
    "c = a + b\n",
    "print(\"{} + {} = {}\".format(a, b, c))\n",
    "\n",
    "# scalar subtraction #\n",
    "c = a - b\n",
    "print(\"{} - {} = {}\".format(a, b, c))\n",
    "\n",
    "# scalar multiplication #\n",
    "c = a * b\n",
    "print(\"{} * {} = {}\".format(a, b, c))\n",
    "\n",
    "# float division #\n",
    "c = a / b\n",
    "print(\"{} / {} = {}\".format(a, b, c))\n",
    "\n",
    "# floor divide #\n",
    "c = a // b  # NOTE: does not exist in Matlab as an operator! #\n",
    "print(\"{} // {} = {}\".format(a, b, c))\n",
    "\n",
    "# modulo #\n",
    "c = a % b  # NOTE: does not exist in Matlab as an operator! #\n",
    "print(\"{} % {} = {}\".format(a, b, c))\n",
    "\n",
    "# exponentiation #\n",
    "c = a ** b  # NOTE: this is different to Matlab (it is '^' there)! #\n",
    "print(\"{} ** {} = {}\".format(a, b, c))\n",
    "\n",
    "# bit-wise XOR #\n",
    "c = a ^ b  # NOTE: don't mix it up with exponentiation! #\n",
    "print(\"{} ^ {} = {}\".format(a, b, c))"
   ]
  },
  {
   "cell_type": "markdown",
   "metadata": {},
   "source": [
    "As opposed to matlab, there are short notations if the variable on the left hand side is used in a simple expression on the right hand side."
   ]
  },
  {
   "cell_type": "code",
   "execution_count": null,
   "metadata": {},
   "outputs": [],
   "source": [
    "# scalar addition #\n",
    "a += b\n",
    "print(\"After incrementation by {} a = {}\".format(b, a))\n",
    "\n",
    "# scalar subtraction #\n",
    "a -= b\n",
    "print(\"After decrementation by {} a = {}\".format(b, a))\n",
    "\n",
    "# scalar multiplication #\n",
    "a *= b\n",
    "print(\"After multiplication by {} a = {}\".format(b, a))\n",
    "\n",
    "# float division #\n",
    "a /= b\n",
    "print(\"After division by {} a = {}\".format(b, a))\n",
    "\n",
    "# floor divide #\n",
    "a //= b  # NOTE: does not exist in Matlab as an operator! #\n",
    "print(\"After floor division by {} a = {}\".format(b, a))\n",
    "\n",
    "# modulo #\n",
    "a %= b  # NOTE: does not exist in Matlab as an operator! #\n",
    "print(\"After modulo by {} a = {}\".format(b, a))\n",
    "\n",
    "# exponentiation #\n",
    "a **= b  # NOTE: this is different to Matlab (it is '^' there)! #\n",
    "print(\"After exponentiation by {} a = {}\".format(b, a))\n",
    "\n",
    "# bit-wise XOR #\n",
    "a = int(a)\n",
    "a ^= b  # NOTE: don't mix it up with exponentiation! #\n",
    "print(\"After bit-wise XOR with {} a = {}\".format(b, a))"
   ]
  },
  {
   "cell_type": "markdown",
   "metadata": {},
   "source": [
    "### Comparison operators\n",
    "\n",
    "Comparison operators work as in Matlab as well, except for the inequality."
   ]
  },
  {
   "cell_type": "code",
   "execution_count": null,
   "metadata": {},
   "outputs": [],
   "source": [
    "# equality #\n",
    "c = a == b\n",
    "print(\"{} == {} = {}\".format(a, b, c))\n",
    "\n",
    "# inequality #\n",
    "c = a != b\n",
    "print(\"{} != {} = {}\".format(a, b, c))"
   ]
  },
  {
   "cell_type": "markdown",
   "metadata": {},
   "source": [
    "## Logical operators\n",
    "\n",
    "In python logical operations are quite readable since logical operations are based on the keywords _and_, _or_, _not_."
   ]
  },
  {
   "cell_type": "code",
   "execution_count": null,
   "metadata": {},
   "outputs": [],
   "source": [
    "# boolean type #\n",
    "v = True\n",
    "print(\"Type of 'var_b' with value {} is {}.\".format(v, type(v)))\n",
    "\n",
    "# logical complement #\n",
    "w = not v\n",
    "print(\"{} = not {}\".format(w, v))\n",
    "\n",
    "# logical AND #\n",
    "w = w and v\n",
    "print(\"{} = {} and {}\".format(w, w, v))\n",
    "\n",
    "# logical OR #\n",
    "w = not w or v\n",
    "print(\"{} = not {} or {}\".format(w, w, v))"
   ]
  },
  {
   "cell_type": "markdown",
   "metadata": {},
   "source": [
    "## String concatenation\n",
    "\n",
    "Also strings can be 'added' which results in a concatenation."
   ]
  },
  {
   "cell_type": "code",
   "execution_count": null,
   "metadata": {},
   "outputs": [],
   "source": [
    "# concatenation #\n",
    "print(s + s)"
   ]
  },
  {
   "cell_type": "markdown",
   "metadata": {},
   "source": [
    "## Membership operator\n",
    "\n",
    "This is a very useful operator when checking if an object is contained in another one. It can be used in several different contexts (not only for strings). The keyword is _in_."
   ]
  },
  {
   "cell_type": "code",
   "execution_count": null,
   "metadata": {
    "scrolled": true
   },
   "outputs": [],
   "source": [
    "# check for substring #\n",
    "substr = \"value\"\n",
    "is_in = substr in s\n",
    "\n",
    "print(\"'{}' is a substring of '{}'! ... 'That is {}'!!\".format(substr, s, is_in))"
   ]
  },
  {
   "cell_type": "markdown",
   "metadata": {},
   "source": [
    "# Data structures\n",
    "\n",
    "Python features three basic build-in data structures which are of interest for now: __tuple__, __list__, __dict__."
   ]
  },
  {
   "cell_type": "markdown",
   "metadata": {},
   "source": [
    "### Tuple\n",
    "\n",
    "A tuple is an ordered sequence of values. It can be created by stating a comma-separated list of values within parantheses. It is a _readonly_ object, i.e. its values can be read, but you cannot modify an existing tuple.\n",
    "\n",
    "Its common usage is if functions return multiple values, those would be collected in a single tuple."
   ]
  },
  {
   "cell_type": "code",
   "execution_count": null,
   "metadata": {},
   "outputs": [],
   "source": [
    "# create a tuple by stating comma-separated values within parentheses '(..., ...,)' #\n",
    "a = (3, 'b',)\n",
    "print(\"'a' is of type '{}' and has value '{}'.\".format(type(a), a))"
   ]
  },
  {
   "cell_type": "markdown",
   "metadata": {},
   "source": [
    "In order to access single elements use bracket notation ('[index]'). Note that indices in Python start with '0' (NOT at '1' as in Matlab)."
   ]
  },
  {
   "cell_type": "code",
   "execution_count": null,
   "metadata": {},
   "outputs": [],
   "source": [
    "# access values by bracket notation #\n",
    "idx = 0  # NOTE: start indices with 0 #\n",
    "print(\"a[{}] = {}\".format(idx, a[idx]))"
   ]
  },
  {
   "cell_type": "markdown",
   "metadata": {},
   "source": [
    "Trying to modify a value results in an error."
   ]
  },
  {
   "cell_type": "code",
   "execution_count": null,
   "metadata": {},
   "outputs": [],
   "source": [
    "# tuples cannot be modified #\n",
    "a[idx] = 1"
   ]
  },
  {
   "cell_type": "markdown",
   "metadata": {},
   "source": [
    "### List\n",
    "\n",
    "Lists are ordered sequences as well. However, as opposed to tuples they are writable objects. A list is created by wrapping a comma-separated list of values in brackets ('[..., ...,]')."
   ]
  },
  {
   "cell_type": "code",
   "execution_count": null,
   "metadata": {},
   "outputs": [],
   "source": [
    "# create a list #\n",
    "b = [3, 'b']\n",
    "print(\"'b' is of type '{}' and has value '{}'.\".format(type(b), b))"
   ]
  },
  {
   "cell_type": "markdown",
   "metadata": {},
   "source": [
    "Accessing elements works in the same way as for tuples. However, it is possible to modify entries as well."
   ]
  },
  {
   "cell_type": "code",
   "execution_count": null,
   "metadata": {},
   "outputs": [],
   "source": [
    "# access values by bracket notation #\n",
    "idx = 1\n",
    "print(\"b[{}] = '{}'\".format(idx, b[idx]))\n",
    "\n",
    "# change value by using bracket notation on the left hand side #\n",
    "b[idx] += 'a'\n",
    "print(\"After modification: \\n b[{}] = '{}'\".format(idx, b[idx]))"
   ]
  },
  {
   "cell_type": "markdown",
   "metadata": {},
   "source": [
    "It's even possible to dynamically append new items to an existing list."
   ]
  },
  {
   "cell_type": "code",
   "execution_count": null,
   "metadata": {},
   "outputs": [],
   "source": [
    "# append new item #\n",
    "b.append(1)\n",
    "print('b: {}'.format(b))"
   ]
  },
  {
   "cell_type": "markdown",
   "metadata": {},
   "source": [
    "### Operators for Tuple and List\n",
    "\n",
    "The _concatenation_ and _membership_ operators introduced above do also apply for tuples and lists. That makes their usage very handy."
   ]
  },
  {
   "cell_type": "code",
   "execution_count": null,
   "metadata": {},
   "outputs": [],
   "source": [
    "# concatenation #\n",
    "print(\"a + a = {}\".format(a + a))\n",
    "print(\"b + b = {}\".format(b + b))"
   ]
  },
  {
   "cell_type": "code",
   "execution_count": null,
   "metadata": {},
   "outputs": [],
   "source": [
    "# membership #\n",
    "test_item = 'b'\n",
    "print(\"'{}' is in {}! ... 'That is {}!'\".format(test_item, a, test_item in a))\n",
    "print(\"'{}' is in {}! ... 'That is {}!'\".format(test_item, b, test_item in b))"
   ]
  },
  {
   "cell_type": "markdown",
   "metadata": {},
   "source": [
    "It is also possible to apply concatenation multiple times by the '*' operator.\n",
    "\n",
    "**WARNING**: Don't mix it up with the mathematical element-wise multiplication with a scalar!"
   ]
  },
  {
   "cell_type": "code",
   "execution_count": null,
   "metadata": {},
   "outputs": [],
   "source": [
    "# multiple concatenations #\n",
    "print(\"a * 3 = {}\".format(a * 3))\n",
    "print(\"b * 3 = {}\".format(b * 3))"
   ]
  },
  {
   "cell_type": "markdown",
   "metadata": {},
   "source": [
    "### Dict\n",
    "\n",
    "Dictionaries are a set of key/value pairs which do not have an order. Indexing can be applied similarly to lists but using the keys as indices. Creation of a dict is done by wrapping a list of key / value pairs in curly brackets ('{..., ...}'). A key / value pair is provided as 'key : value'."
   ]
  },
  {
   "cell_type": "code",
   "execution_count": null,
   "metadata": {},
   "outputs": [],
   "source": [
    "# create a dictionary #\n",
    "d = {'key1': 2, 3: 'val2'}\n",
    "print(\"'d' is of type '{}' and has value '{}'.\".format(type(d), d))\n",
    "\n",
    "# alternative creation (ONLY if all keys are strings) #\n",
    "d2 = dict(key1=2, key2='val2')\n",
    "print(\"'d2' is of type '{}' and has value '{}'.\".format(type(d2), d2))"
   ]
  },
  {
   "cell_type": "code",
   "execution_count": null,
   "metadata": {},
   "outputs": [],
   "source": [
    "# access values by bracket notation #\n",
    "key = 3\n",
    "print(\"d[{}] = '{}'\".format(key, d[key]))\n",
    "\n",
    "key = 'key2'\n",
    "print(\"d2['{}'] = '{}'\".format(key, d2[key]))"
   ]
  },
  {
   "cell_type": "markdown",
   "metadata": {},
   "source": [
    "There exist convenience functions to access the keys, values or key/value pairs as a list directly."
   ]
  },
  {
   "cell_type": "code",
   "execution_count": null,
   "metadata": {},
   "outputs": [],
   "source": [
    "# retrieve all keys as a list #\n",
    "key_list = list(d.keys())\n",
    "print(\"keys of d: {}\".format(key_list))\n",
    "\n",
    "# retrieve all values as a list #\n",
    "val_list = list(d.values())\n",
    "print(\"values of d: {}\".format(val_list))\n",
    "\n",
    "# retrieve tuples of key/value pairs as a list #\n",
    "kv_list = list(d.items())\n",
    "print(\"key/value pairs of d: {}\".format(kv_list))"
   ]
  },
  {
   "cell_type": "markdown",
   "metadata": {},
   "source": [
    "### Check length\n",
    "\n",
    "You can retrieve the length of any of the three introduced data structures by the built-in command _len_."
   ]
  },
  {
   "cell_type": "code",
   "execution_count": null,
   "metadata": {},
   "outputs": [],
   "source": [
    "# length of a tuple #\n",
    "print(\"'a' has {} entries.\".format(len(a)))\n",
    "\n",
    "# length of a list #\n",
    "print(\"'b' has {} entries.\".format(len(b)))\n",
    "\n",
    "# length of a dict #\n",
    "print(\"'d' has {} entries.\".format(len(d)))"
   ]
  },
  {
   "cell_type": "markdown",
   "metadata": {},
   "source": [
    "## Control flow\n",
    "\n",
    "As in Matlab, there are _for_ and _while_ loops as well as _if_/_else_ statements available to control the program flow. However, their syntax is slightly different in Python.\n",
    "\n",
    "##### Indentation\n",
    "Generally, there are no keywords (like 'begin' or 'end' indicating the body of a loop or a function. Instead the Python language relies on strict indentation rules in order to indicate such a hierarchy. You are required to use the same indentation (e.g. 4 whitespaces) throughout your whole code consistently."
   ]
  },
  {
   "cell_type": "markdown",
   "metadata": {},
   "source": [
    "### if-clauses\n",
    "\n",
    "In Python an if clause is started with the keyword _if_ followed by a statement that evaluates to a boolean value and finished by a colon (':'). The body of the if-statment consisting of the code executed if the condition is _True_ must be indented."
   ]
  },
  {
   "cell_type": "code",
   "execution_count": null,
   "metadata": {},
   "outputs": [],
   "source": [
    "# define condition explicitly #\n",
    "condition = 3 in d\n",
    "\n",
    "if condition:\n",
    "    print(\"3 is in {}! ... 'That is {}!'\".format(d, condition))  # within if-clause #\n",
    "\n",
    "if not condition:\n",
    "    print(\"3 is not in {}! ... 'That is {}!'\".format(d, not condition))  # within if-clause #\n",
    "print(\"This statment is outside the if-clause!\")  # outside if-clause #"
   ]
  },
  {
   "cell_type": "markdown",
   "metadata": {},
   "source": [
    "Cascading if-statements work similar to Matlab syntax. Note, that there is no 'switch' statement, but the same behaviour can be achieved by cascading several _elif_ branches."
   ]
  },
  {
   "cell_type": "code",
   "execution_count": null,
   "metadata": {},
   "outputs": [],
   "source": [
    "condition2 = 'key1' in d  # TODO: vary the condition #\n",
    "\n",
    "# if condition #\n",
    "if not condition:\n",
    "    print(\"'condition' is not True\")\n",
    "else:  # alternative #\n",
    "    print(\"'condition' is True\")\n",
    "\n",
    "# cascading if conditions #\n",
    "if not condition:\n",
    "    print(\"'condition is not True\")\n",
    "elif condition2:\n",
    "    print(\"'condition' is False and 'condition2' is True\")\n",
    "else:\n",
    "    print(\"None of the other branches was reached!\")\n",
    "print(\"Cascading if-clause passed!\")"
   ]
  },
  {
   "cell_type": "markdown",
   "metadata": {},
   "source": [
    "### Loops\n",
    "\n",
    "##### For loop\n",
    "\n",
    "The _for_ loop in Python is indroduced with the keyword 'for' followed by a statement defining the 'increment' of the loop variable and finally a colon (':'). The loop body is indented.\n",
    "\n",
    "The 'increment' statement has the for '<loop_var> in <list>'. To achieve the classic integer loop counting behaviour one can use a 'range' object to define the number of loop passes."
   ]
  },
  {
   "cell_type": "code",
   "execution_count": null,
   "metadata": {},
   "outputs": [],
   "source": [
    "for i in range(5):\n",
    "    print(\"This is loop pass {}.\".format(i))"
   ]
  },
  {
   "cell_type": "markdown",
   "metadata": {},
   "source": [
    "But you can use any _list_ object to define the incrementation of the loop variable."
   ]
  },
  {
   "cell_type": "code",
   "execution_count": null,
   "metadata": {},
   "outputs": [],
   "source": [
    "print(\"Looping of variable 'a' with type {} and value {}...\".format(type(a), a))\n",
    "for j in a:\n",
    "    print(j)\n",
    "\n",
    "print(\"Looping of variable 'b' with type {} and value {}...\".format(type(b), b))\n",
    "for j in b:\n",
    "    print(j)\n",
    "\n",
    "print(\"Looping of variable 'd' with type {} and value {}...\".format(type(d), d))\n",
    "for j in d:\n",
    "    print(j)\n",
    "\n",
    "print(\"Looping of variable 'd.values()' with type {} and value {}...\".format(type(d.values()), d.values()))\n",
    "for j in d.values():\n",
    "    print(j)"
   ]
  },
  {
   "cell_type": "markdown",
   "metadata": {},
   "source": [
    "##### range objects\n",
    "\n",
    "The range object behaves almost like the matlab colon notation, i.e. range(2, 4, 1) is equivalent with '2:1:4' in Matlab. You can call 'range' with different number of arguments. What is the effect of that?"
   ]
  },
  {
   "cell_type": "code",
   "execution_count": null,
   "metadata": {},
   "outputs": [],
   "source": [
    "# call with ONE argument #\n",
    "print(\"range(5) = {}\".format(list(range(5))))\n",
    "\n",
    "# call with TWO arguments #\n",
    "print(\"range(2, 5) = {}\".format(list(range(2, 5))))\n",
    "\n",
    "# call with THREE arguments #\n",
    "print(\"range(2, 5, 2) = {}\".format(list(range(2, 5, 2))))"
   ]
  },
  {
   "cell_type": "markdown",
   "metadata": {},
   "source": [
    "##### While loop\n",
    "\n",
    "The _while_ loop works intuitively as one would expect."
   ]
  },
  {
   "cell_type": "code",
   "execution_count": null,
   "metadata": {},
   "outputs": [],
   "source": [
    "i = 1\n",
    "while i < 10:\n",
    "    print(i)\n",
    "    i += 1"
   ]
  },
  {
   "cell_type": "markdown",
   "metadata": {},
   "source": [
    "##### Control looping behaviour\n",
    "\n",
    "As in Matlab, there exist _continue_ and _break_ statements."
   ]
  },
  {
   "cell_type": "code",
   "execution_count": null,
   "metadata": {},
   "outputs": [],
   "source": [
    "i = 10\n",
    "while i < 20:\n",
    "    print(i)\n",
    "    i += 1\n",
    "    if i > 14:\n",
    "        break\n",
    "    else:\n",
    "        continue"
   ]
  },
  {
   "cell_type": "markdown",
   "metadata": {},
   "source": [
    "## Comprehensions  (optional, performance-related)\n",
    "\n",
    "While loops can be used to fill lists or dictionaries with contents, there exists a faster way to do so that might also be better readable (however readability might also suffer if used too excessively).\n",
    "\n",
    "A well motivated example where list-comprehension is usually needed, is the addition of numerical values in two lists. Since the '+' operator for lists is just concatenating the two lists, one needs to add all values manually."
   ]
  },
  {
   "cell_type": "code",
   "execution_count": null,
   "metadata": {},
   "outputs": [],
   "source": [
    "l1 = list(range(5))\n",
    "l2 = list(range(-5,0))\n",
    "\n",
    "print(\"l1: {}\".format(list(l1)))\n",
    "print(\"l2: {}\".format(list(l2)))"
   ]
  },
  {
   "cell_type": "code",
   "execution_count": null,
   "metadata": {},
   "outputs": [],
   "source": [
    "# NOTE: '+' operator does not work as expected #\n",
    "print(\"l1 + l2 = {}\".format(l1 + l2))"
   ]
  },
  {
   "cell_type": "markdown",
   "metadata": {},
   "source": [
    "A handy function for looping simultaneously over two lists is _zip_. This function returns in each pass a tuple with two values, one for each list."
   ]
  },
  {
   "cell_type": "code",
   "execution_count": null,
   "metadata": {},
   "outputs": [],
   "source": [
    "# zip the two lists together #\n",
    "zip12 = zip(l1, l2)\n",
    "\n",
    "print(zip12)\n",
    "\n",
    "# zip object can be converted into a list in order to be printed\n",
    "print(list(zip12))"
   ]
  },
  {
   "cell_type": "code",
   "execution_count": null,
   "metadata": {},
   "outputs": [],
   "source": [
    "# we can also loop over a zip object\n",
    "for val1, val2 in zip(l1, l2):\n",
    "    print(\"val1: {}, val2: {}\".format(val1, val2))"
   ]
  },
  {
   "cell_type": "code",
   "execution_count": null,
   "metadata": {},
   "outputs": [],
   "source": [
    "# example: add two list elemet by element\n",
    "l = list()\n",
    "for val1, val2 in zip(l1, l2):\n",
    "    l.append(val1 + val2)\n",
    "print(\"l: {}\".format(l))"
   ]
  },
  {
   "cell_type": "markdown",
   "metadata": {},
   "source": [
    "The same code based on list comprehension is much shorter."
   ]
  },
  {
   "cell_type": "code",
   "execution_count": null,
   "metadata": {},
   "outputs": [],
   "source": [
    "# list comprehension #\n",
    "l = [val1 + val2 for val1, val2 in zip(l1, l2)]  # <----- isn't that beautiful?! :) #\n",
    "\n",
    "print(\"l: {}\".format(l))"
   ]
  },
  {
   "cell_type": "markdown",
   "metadata": {},
   "source": [
    "Dictionary comprehension has a similar syntax (in curly brackets), but we will skip this topic here (you'll find it in google for sure ;) )."
   ]
  },
  {
   "cell_type": "markdown",
   "metadata": {},
   "source": [
    "## The import statement\n",
    "\n",
    "Up to now all Python functionality that we used was built-in, i.e. it is available once you start a python kernel for interpreting your commands. However, a big argument for the Python language is the huge amount of libraries and additional functionality that is available. In order to use a specific (not built-in) library one has to explicitly load it into the code. This is done by the _import_ statement.\n",
    "\n",
    "In Python a single _.py_ file is may contain several definitions of functions and classes and is called a _module_. A folder which contains several _modules_ and an additional file with name *\\__init__.py* is called a package. Packages can be subpackages of other packages. This hierarchy is important when it comes to loading a specific function from a library (i.e. package) into your code.\n",
    "\n",
    "In case you want to access a module which is part of another package you can access it with 'dot' ('.') notation by '<package>.<module>'. If it is part of a specific subpackage, access it by '<package>.<subpackage>.<module>', etc.\n",
    "\n",
    "There are two ways to use the _import_ statement. One is to import a package, subpackage or module into your code. In this case, if you want to access a function you have to use the 'dot' notation to access it."
   ]
  },
  {
   "cell_type": "code",
   "execution_count": null,
   "metadata": {},
   "outputs": [],
   "source": [
    "# import the numpy package #\n",
    "import numpy\n",
    "\n",
    "# create a numpy array #\n",
    "arr = numpy.array([1, 3, 4])  # use dot notation to access the function 'array' #\n",
    "\n",
    "print(\"'arr' is of type {} and has value {}\".format(type(arr), arr))"
   ]
  },
  {
   "cell_type": "markdown",
   "metadata": {},
   "source": [
    "As an alternative it is possible to import only specific functions instead of the whole module or package. This is done using a slightly different syntax with the additional keyword _from_."
   ]
  },
  {
   "cell_type": "code",
   "execution_count": null,
   "metadata": {},
   "outputs": [],
   "source": [
    "# import only the function array from the numpy package #\n",
    "from numpy import array\n",
    "\n",
    "# create a numpy array #\n",
    "arr2 = array([4, -1, 2, 34])\n",
    "\n",
    "print(\"'arr2' is of type {} and has value {}\".format(type(arr2), arr2))"
   ]
  },
  {
   "cell_type": "markdown",
   "metadata": {},
   "source": [
    "A convenient feature for both statements is that you can assign alternative names to whatever object you import. There are standard conventions for the most common libraries e.g. 'np' for 'numpy', or 'plt' for 'matplotlib.pyplot'."
   ]
  },
  {
   "cell_type": "code",
   "execution_count": null,
   "metadata": {},
   "outputs": [],
   "source": [
    "# import the numpy package #\n",
    "import numpy as np\n",
    "from numpy import array as create_array\n",
    "\n",
    "arr3 = np.array(['bla', 'blubb', 2])\n",
    "arr4 = create_array([a, b, d])\n",
    "\n",
    "print(\"'arr3' is of type {} and has value {}\".format(type(arr3), arr3))\n",
    "print(\"'arr4' is of type {} and has value {}\".format(type(arr4), arr4))"
   ]
  },
  {
   "cell_type": "markdown",
   "metadata": {},
   "source": [
    "## Calling functions\n",
    "\n",
    "Function calls in the basic way work as in Matlab by providing all arguments as a comma-separated list wrapped in parantheses to the function call (as we have seen by the example of the _numpy.array_ function).\n",
    "\n",
    "In order to see the documentation of a certain function (and explore further possible arguments) call the 'help' command on the function object."
   ]
  },
  {
   "cell_type": "code",
   "execution_count": null,
   "metadata": {
    "scrolled": true
   },
   "outputs": [],
   "source": [
    "# obtain documentation of 'numpy.array' #\n",
    "help(numpy.array)"
   ]
  },
  {
   "cell_type": "markdown",
   "metadata": {},
   "source": [
    "As you can see the function takes one argument 'object' which we provided as a list object in our previous calls. But as one can see, there are more arguments defined in the function signature. However, these arguments are initialised with default values and are therefore not mandatory to be provided at function call. Nevertheless, we can provide values also for those arguments."
   ]
  },
  {
   "cell_type": "code",
   "execution_count": null,
   "metadata": {},
   "outputs": [],
   "source": [
    "# call array with 'dtype' argument #\n",
    "arr5 = np.array(l, 'int')\n",
    "print('Data type of \"arr5\" is {}.'.format(arr5.dtype))"
   ]
  },
  {
   "cell_type": "markdown",
   "metadata": {},
   "source": [
    "Instead of identifying the given arguments to the function by their order it is possible to name them explicitly when calling a function (similar to creating a dict, see above). In this way, it is not necessary to provide the 'copy' argument in case we only want to specify the 'order' argument."
   ]
  },
  {
   "cell_type": "code",
   "execution_count": null,
   "metadata": {},
   "outputs": [],
   "source": [
    "# call array with positional 'dtype' argument and keyword argument 'order' #\n",
    "arr6 = np.array(l, 'int32', order='F')  # NOTE: 'copy' argument is skipped #\n",
    "print('Data type of \"arr6\" is {}.'.format(arr6.dtype))"
   ]
  },
  {
   "cell_type": "markdown",
   "metadata": {},
   "source": [
    "## Defining custom functions\n",
    "\n",
    "In python functions are defined using the keyword _def_ followed by the function name, the comma-separated argument list and a final colon (':'). As before the function body must be properly indented! Documentation of a function is added just below the function header as shown in the next example."
   ]
  },
  {
   "cell_type": "code",
   "execution_count": null,
   "metadata": {},
   "outputs": [],
   "source": [
    "def add_lists(l1, l2):\n",
    "    \"\"\"\n",
    "    Add the elements of two lists.\n",
    "    \n",
    "    :param l1: first list\n",
    "    :param l2: second list\n",
    "    :return: list containing element-wise addition of l1 and l2\n",
    "    \"\"\"\n",
    "    return [val1 + val2 for val1, val2 in zip(l1, l2)]"
   ]
  },
  {
   "cell_type": "code",
   "execution_count": null,
   "metadata": {},
   "outputs": [],
   "source": [
    "# call the custom function #\n",
    "print(\"add_lists(l1, l2) -->  {}\".format(add_lists(l1, l2)))"
   ]
  },
  {
   "cell_type": "markdown",
   "metadata": {},
   "source": [
    "As mentioned by the example of the _zip_ function, it is possible to return multiple values by wrapping them in a tuple."
   ]
  },
  {
   "cell_type": "code",
   "execution_count": null,
   "metadata": {},
   "outputs": [],
   "source": [
    "def stats(l):\n",
    "    \"\"\"\n",
    "    Retrieve mean and standard deviation of the values in the given list.\n",
    "    \n",
    "    :param l: list of numerical values\n",
    "    :return: mean and stddev of l\n",
    "    \"\"\"\n",
    "    return np.mean(l), np.std(l)"
   ]
  },
  {
   "cell_type": "code",
   "execution_count": null,
   "metadata": {},
   "outputs": [],
   "source": [
    "# retrieve both return values separately #\n",
    "mean, stddev = stats(l1)\n",
    "print(\"Mean of l: {}; standard deviation of l: {}\".format(mean, stddev))\n",
    "\n",
    "# retrieve all return values as a tuple #\n",
    "ret_tuple = stats(l1)\n",
    "print(\"stats(l1)  -->  {}\".format(ret_tuple))"
   ]
  },
  {
   "cell_type": "markdown",
   "metadata": {},
   "source": [
    "## Object orientation\n",
    "\n",
    "In this introduction, we're only scratching the surface on how to work with objects in python. If you're completely new to the topic of object-oriented programming (OOP) please try to learn the basic terms and concepts first (e.g. https://realpython.com/python3-object-oriented-programming/, https://www.tutorialspoint.com/python/python_classes_objects.htm).\n",
    "\n",
    "### Type and classes\n",
    "\n",
    "for now, think about objects in python as structures that we can attach data to. In the previous parts of this introduction we've been already used some common python objects as lists, tuples, ints, etc. In python, more or less everything is an object in general, even functions or variables. The objects we used so far are so called build in objects/types. In order to determine the type of a variable, the powerful 'type' function can be used\n"
   ]
  },
  {
   "cell_type": "code",
   "execution_count": 1,
   "metadata": {},
   "outputs": [
    {
     "name": "stdout",
     "output_type": "stream",
     "text": [
      "<class 'list'>\n",
      "<class 'dict'>\n",
      "<class 'int'>\n",
      "<class 'str'>\n"
     ]
    }
   ],
   "source": [
    "# define some variables:\n",
    "list_ = [1, 2, 3, 4, 5]\n",
    "dict_ = {'k1': 'foo','k2': 'bar', 'k3': 'baz'}\n",
    "int_ = 5\n",
    "str_ = 'I am a message'\n",
    "\n",
    "# print the type of those variables\n",
    "for var_ in (list_, dict_, int_, str_):\n",
    "    print(type(var_))"
   ]
  },
  {
   "cell_type": "markdown",
   "metadata": {},
   "source": [
    "### Custom objects\n",
    "In order to write our own software, we might need to write own such objects for example if we want to store data to it in a more general way. Usually, we distinguish between a class declaration that defines how an object should look/behave like, and an instance of an object, that actually holds data."
   ]
  },
  {
   "cell_type": "code",
   "execution_count": 2,
   "metadata": {},
   "outputs": [
    {
     "name": "stdout",
     "output_type": "stream",
     "text": [
      "<class 'type'>\n"
     ]
    }
   ],
   "source": [
    "# definition of the objects structure\n",
    "class MyOwnClass:\n",
    "    pass # note: pass does nothing. here only needed because after ':' it cannot be empty\n",
    "\n",
    "# print the type of the class \n",
    "print(type(MyOwnClass))"
   ]
  },
  {
   "cell_type": "code",
   "execution_count": 3,
   "metadata": {},
   "outputs": [
    {
     "name": "stdout",
     "output_type": "stream",
     "text": [
      "<class '__main__.MyOwnClass'>\n"
     ]
    }
   ],
   "source": [
    "# create an actual insance of 'MyOwnClass'\n",
    "one_instance = MyOwnClass()\n",
    "\n",
    "# print the type of the instance \n",
    "print(type(one_instance))\n"
   ]
  },
  {
   "cell_type": "markdown",
   "metadata": {},
   "source": [
    "### attaching data to the object\n",
    "Remember our variables 'list_', 'dict_', 'int_', 'str_'? Next, we want to attach them to our new object in order to store them and reuse them later (in order to organize our code better). One way is to attach them to out Object with the '.' operator. In practice this looks like that"
   ]
  },
  {
   "cell_type": "code",
   "execution_count": 4,
   "metadata": {},
   "outputs": [
    {
     "name": "stdout",
     "output_type": "stream",
     "text": [
      "[1, 2, 3, 4, 5]\n",
      "{'k1': 'foo', 'k2': 'bar', 'k3': 'baz'}\n"
     ]
    }
   ],
   "source": [
    "one_instance.list_ = list_\n",
    "one_instance.dict_ = dict_\n",
    "one_instance.int_ = int_\n",
    "one_instance.str_ = str_\n",
    "\n",
    "# we can now use them at different places in our code in the same way\n",
    "print(one_instance.list_)\n",
    "print(one_instance.dict_)\n",
    "# ...\n"
   ]
  },
  {
   "cell_type": "markdown",
   "metadata": {},
   "source": [
    "There is however a cleaner way on how we can attach data to objects, that is easier to read, because we know at the declaration of the class already which data it is expected to contain (note: variables that are attached to an object are called the objects __member variables__). Therefore we define a __\\_\\_init\\_\\___ method. Note: in Python, there exist special methods, that objects usually are equipped with, typicalle marked with __\\_\\_method-name\\_\\___. Back to our example, this would look like this:"
   ]
  },
  {
   "cell_type": "code",
   "execution_count": 5,
   "metadata": {},
   "outputs": [
    {
     "name": "stdout",
     "output_type": "stream",
     "text": [
      "[1, 2, 3, 4, 5]\n",
      "{'k1': 'foo', 'k2': 'bar', 'k3': 'baz'}\n"
     ]
    }
   ],
   "source": [
    "class AnotherOwnClass:\n",
    "    def __init__(self, list_, dict_, int_, str_):\n",
    "        self.list_ = list_\n",
    "        self.dict_ = dict_\n",
    "        self.int_ = int_\n",
    "        self.str_ = str_\n",
    "        \n",
    "another_instance = AnotherOwnClass(list_, dict_, int_, str_)\n",
    "\n",
    "print(another_instance.list_)\n",
    "print(another_instance.dict_)"
   ]
  },
  {
   "cell_type": "markdown",
   "metadata": {},
   "source": [
    "### the self reference\n",
    "In the previous code fracment you propably wondered what this self variable is. This may take a bit to get used to, but once understood is always used in the same way. In python, every method of an object (here ```__init__``` ) needs to get a reference to itself as the first argument, usually named __self__. If you call the method from __outside__ of the object, the self argument is passed in automatically. For example, by calling \n",
    "\n",
    "```AnotherOwnClass(list_, dict_, int_, str_)``` \n",
    "\n",
    "python internally calls \n",
    "\n",
    "``` __init__(another_instance, list_, dict_, int_, str_)```\n",
    "\n",
    ". The last line however is just meant for illustration and not valid python. Also, note that each  appearance of 'self' within the class definition is relaced by the name of the instance if called from the outside: \n",
    "\n",
    "``` self.list_``` in the declaration becomes ```another_instance.list_``` when called from outside.\n"
   ]
  },
  {
   "cell_type": "markdown",
   "metadata": {},
   "source": [
    "### Custom member functions\n",
    "similar like our definition of __\\_\\_init\\_\\___ we can also define own functions that are particular for our object (commonly reffered to as member functions, sometimes just methods). If you understood the use of the self reference, the definition is straight forward:\n",
    "\n"
   ]
  },
  {
   "cell_type": "code",
   "execution_count": 6,
   "metadata": {},
   "outputs": [
    {
     "name": "stdout",
     "output_type": "stream",
     "text": [
      "[1, 2, 3, 4, 5]\n",
      "{'k1': 'foo', 'k2': 'bar', 'k3': 'baz'}\n",
      "5\n",
      "I am a message\n"
     ]
    }
   ],
   "source": [
    "# definition\n",
    "class ThirdOwnClass:\n",
    "    def __init__(self, list_, dict_, int_, str_):\n",
    "        self.list_ = list_\n",
    "        self.dict_ = dict_\n",
    "        self.int_ = int_\n",
    "        self.str_ = str_\n",
    "        \n",
    "    def print_all_variables(self):\n",
    "        for var_ in (self.list_, self.dict_, self.int_, self.str_):\n",
    "            print(var_)\n",
    "            \n",
    "# instance\n",
    "third_instance = ThirdOwnClass(list_, dict_, int_, str_)\n",
    "\n",
    "# call the function\n",
    "third_instance.print_all_variables()\n"
   ]
  },
  {
   "cell_type": "markdown",
   "metadata": {},
   "source": [
    "Note that we didnt had to provide anything to our 'print_all_variables' function, since it could use the data that was already attached to our object. "
   ]
  },
  {
   "cell_type": "markdown",
   "metadata": {},
   "source": [
    "# A short test\n",
    "\n",
    "In order to obtain a short feedback of what you should be able to implement solve the following exercise, which is designed to include most aspects taught in this short introductory tutorial.\n",
    "\n",
    "Note that for solving this exercise you should **not** use any external library (like _Numpy_).\n",
    "\n",
    "#### Exercise\n",
    "\n",
    "Implement a function *sum_statistics* which satisfies the functional requirements of the documentation given below.\n",
    "\n",
    "<pre>\n",
    "help(sum_statistics)\n",
    "- - - -\n",
    "\"\"\"\n",
    "Perform an element-wise addition of the values in the given tuple and list of same length, compute statistics on the resulting sum (i.e. mean, maximum, minimum) and store them in a dict where the keys are the name of the statistic and the values their corresponding value. It is possible to specify a scalar weight of the elements in the sum for each the tuple as well as the list.\n",
    "\n",
    ":param    seq1:  sequence of numerical values (same length as 'seq2')\n",
    ":type     seq1:  tuple of scalars\n",
    ":param    seq2:  sequence of numerical values (same length as 'seq1')\n",
    ":type     seq2:  list of scalars\n",
    ":param factor1:  weight for elements in 'seq1'; default: 1\n",
    ":type  factor1:  scalar\n",
    ":param factor2:  weight for elements in 'seq2'; default: 1\n",
    ":type  factor2:  scalar\n",
    ":return:         dict of statistics of the weighted sum of 'seq1' and 'seq2'\n",
    ":rtype:          dict (type of keys: str, type of values: numerical)\n",
    "\"\"\"\n",
    "- - - -\n",
    "</pre>\n",
    "\n",
    "Further, implement a function *print_statistics* to print the results in a unified way. It should satisfy the requirements of the following documentation.\n",
    "\n",
    "<pre>\n",
    "help(print_statistics)\n",
    "- - - -\n",
    "\"\"\"\n",
    "Create a string representation of the given dict of statistics in the following format:\n",
    "\n",
    " ''' Resulting statistics (number of statistics = n): '''\n",
    " '''    name_of_stat_1: value_of_stat_1               '''\n",
    " '''    name_of_stat_2: value_of_stat_2               '''\n",
    " '''       .                                          '''\n",
    " '''       .                                          '''\n",
    " '''       .                                          '''\n",
    " '''    name_of_stat_n: value_of_stat_n               '''\n",
    "\n",
    "Depending on the chosen flag, the function either returns the string representation or directly prints it.\n",
    "\n",
    ":param      stats:  dict of statistics (key: name of statistic, value: value of statistic)\n",
    ":type       stats:  dict (type of keys: str, type of values: numerical)\n",
    ":param flag_print:  indicate if string representation should be printed or returned;\n",
    "                     True: print it, return nothing; False: do not print it, return string\n",
    ":type  flag_print:  bool\n",
    ":return:            either nothing or the string representation (depending on 'flag_print')\n",
    ":rtype:             None OR str\n",
    "\"\"\"\n",
    "- - - -\n",
    "</pre>"
   ]
  },
  {
   "cell_type": "code",
   "execution_count": 7,
   "metadata": {},
   "outputs": [],
   "source": [
    "import numpy as np"
   ]
  },
  {
   "cell_type": "code",
   "execution_count": 64,
   "metadata": {},
   "outputs": [],
   "source": [
    "# TODO: define the function 'sum_statistics' #\n",
    "\n",
    "def sum_statistics(seq1, seq2, factor1 = 1, factor2 = 1):\n",
    "    \n",
    "    \"\"\"\n",
    "    Perform an element-wise addition of the values in the given tuple and list of same length, \n",
    "    compute statistics on the resulting sum (i.e. mean, maximum, minimum) and \n",
    "    store them in a dict where the keys are the name of the statistic \n",
    "    and the values their corresponding value. \n",
    "    It is possible to specify a scalar weight of the elements in the sum for each the tuple as well as the list.\n",
    "\n",
    "    :param    seq1:  sequence of numerical values (same length as 'seq2')\n",
    "    :type     seq1:  tuple of scalars\n",
    "    :param    seq2:  sequence of numerical values (same length as 'seq1')\n",
    "    :type     seq2:  list of scalars\n",
    "    :param factor1:  weight for elements in 'seq1'; default: 1\n",
    "    :type  factor1:  scalar\n",
    "    :param factor2:  weight for elements in 'seq2'; default: 1\n",
    "    :type  factor2:  scalar\n",
    "    :return:         dict of statistics of the weighted sum of 'seq1' and 'seq2'\n",
    "    :rtype:          dict (type of keys: str, type of values: numerical)\n",
    "    \n",
    "    \"\"\"\n",
    "    \n",
    "    if len(seq1) == len(seq2):\n",
    "        seq3 = np.sum((factor1*np.array(seq1),factor2*np.array(seq2)),axis = 0)\n",
    "\n",
    "        mean = np.mean(seq3)\n",
    "        minimum = min(seq3)\n",
    "        maximum = max(seq3)\n",
    "\n",
    "        dict_out = {\"mean\" : mean,\n",
    "                   \"minimum\" : minimum,\n",
    "                   \"maximum\" : maximum}\n",
    "\n",
    "        return dict_out\n",
    "    \n",
    "    else:\n",
    "        \n",
    "        print('Sequences of different length. Please provide sequences of the same length')\n",
    "        print('Length of sequence 1: {} // Length of sequence 2: {}'.format(len(seq1),len(seq2)))\n",
    "        \n",
    "        return _\n",
    "        \n",
    "    "
   ]
  },
  {
   "cell_type": "code",
   "execution_count": 65,
   "metadata": {},
   "outputs": [],
   "source": [
    "# TODO: define the function 'print_statistics' #\n",
    "def print_statistics(stats,flag_print = False):\n",
    "    \n",
    "    \"\"\"\n",
    "    Create a string representation of the given dict of statistics in the following format:\n",
    "\n",
    "     ''' Resulting statistics (number of statistics = n): '''\n",
    "     '''    name_of_stat_1: value_of_stat_1               '''\n",
    "     '''    name_of_stat_2: value_of_stat_2               '''\n",
    "     '''       .                                          '''\n",
    "     '''       .                                          '''\n",
    "     '''       .                                          '''\n",
    "     '''    name_of_stat_n: value_of_stat_n               '''\n",
    "\n",
    "    Depending on the chosen flag, the function either returns the string representation or directly prints it.\n",
    "\n",
    "    :param      stats:  dict of statistics (key: name of statistic, value: value of statistic)\n",
    "    :type       stats:  dict (type of keys: str, type of values: numerical)\n",
    "    :param flag_print:  indicate if string representation should be printed or returned;\n",
    "                         True: print it, return nothing; False: do not print it, return string\n",
    "    :type  flag_print:  bool\n",
    "    :return:            either nothing or the string representation (depending on 'flag_print')\n",
    "    :rtype:             None OR str\n",
    "    \"\"\"\n",
    "    \n",
    "    k = stats.keys()\n",
    "    v = stats.values()\n",
    "    \n",
    "    print(\"\\n''' Resulting statistics (number of statistics = {}): '''\\n\".format(len(k)))\n",
    "    \n",
    "    \n",
    "    for key,value in zip(k,v):\n",
    "        \n",
    "        if flag_print:\n",
    "            \n",
    "            print(\"'''    {}: {}               '''\\n\".format(repr(key),value))\n",
    "            \n",
    "        \n",
    "        else:\n",
    "            \n",
    "            print(\"'''    {}: {}               '''\\n\".format(repr(key),value))\n",
    "            \n",
    "    if flag_print:\n",
    "        \n",
    "        return repr(k)"
   ]
  },
  {
   "cell_type": "code",
   "execution_count": 66,
   "metadata": {},
   "outputs": [],
   "source": [
    "# TODO: define a tuple of numerical values (length > 4) #\n",
    "\n",
    "a = (0,1,2,3,4,5)\n",
    "\n",
    "# TODO: define a factor for the tuple #\n",
    "\n",
    "f1 = 2\n",
    "\n",
    "# TODO: define a list of numerical values (length > 4) #\n",
    "\n",
    "b = [0,1,2,3,4,5]\n",
    "\n",
    "# TODO: define a factor for the list #\n",
    "\n",
    "f2 = 3"
   ]
  },
  {
   "cell_type": "code",
   "execution_count": 67,
   "metadata": {},
   "outputs": [
    {
     "name": "stdout",
     "output_type": "stream",
     "text": [
      "\n",
      "''' Resulting statistics (number of statistics = 3): '''\n",
      "\n",
      "'''    'mean': 5.0               '''\n",
      "\n",
      "'''    'minimum': 0               '''\n",
      "\n",
      "'''    'maximum': 10               '''\n",
      "\n"
     ]
    }
   ],
   "source": [
    "# TODO: call 'sum_statistics' with two parameters #\n",
    "\n",
    "st = sum_statistics(a,b)\n",
    "\n",
    "# TODO: print the resulting statistics within the function 'print_statistics' #\n",
    "\n",
    "rep = print_statistics(st,flag_print = True)\n"
   ]
  },
  {
   "cell_type": "code",
   "execution_count": 69,
   "metadata": {},
   "outputs": [
    {
     "name": "stdout",
     "output_type": "stream",
     "text": [
      "\n",
      "''' Resulting statistics (number of statistics = 3): '''\n",
      "\n",
      "'''    'mean': 7.5               '''\n",
      "\n",
      "'''    'minimum': 0               '''\n",
      "\n",
      "'''    'maximum': 15               '''\n",
      "\n",
      "dict_keys(['mean', 'minimum', 'maximum'])\n"
     ]
    }
   ],
   "source": [
    "# TODO: call 'sum_statistics' with three parameters #\n",
    "\n",
    "sta = sum_statistics(a,b,f1)\n",
    "\n",
    "# TODO: obtain the string representation of the resulting statistics from 'print_statistics' #\n",
    "\n",
    "rep = print_statistics(sta,flag_print = True)\n",
    "\n",
    "# TODO: print the string representation #\n",
    "\n",
    "print(rep)"
   ]
  },
  {
   "cell_type": "code",
   "execution_count": 70,
   "metadata": {},
   "outputs": [
    {
     "name": "stdout",
     "output_type": "stream",
     "text": [
      "\n",
      "''' Resulting statistics (number of statistics = 3): '''\n",
      "\n",
      "'''    'mean': 12.5               '''\n",
      "\n",
      "'''    'minimum': 0               '''\n",
      "\n",
      "'''    'maximum': 25               '''\n",
      "\n",
      "dict_keys(['mean', 'minimum', 'maximum'])\n"
     ]
    }
   ],
   "source": [
    "# TODO: call 'sum_statistics' with four parameters #\n",
    "\n",
    "stat = sum_statistics(a,b,f1,f2)\n",
    "\n",
    "# TODO: obtain the string representation of the resulting statistics from 'print_statistics' #\n",
    "\n",
    "repre = print_statistics(stat,flag_print = True)\n",
    "\n",
    "# TODO: print the string representation #\n",
    "\n",
    "print(repre)"
   ]
  },
  {
   "cell_type": "markdown",
   "metadata": {},
   "source": [
    "# A short test with OOP\n",
    "\n",
    "We now want to take the same code we wrote above, but write it in a more object-orientated style. \n",
    "\n",
    "#### Exercise\n",
    "\n",
    "Declare a class *Statistics*. Equip it with a *\\_\\_init\\_\\_* method according to the following requirements \n",
    "\n",
    "\n",
    "<pre>\n",
    "help(Statistics.__init__)\n",
    "- - - -\n",
    "\"\"\"\n",
    "Attach each of the provided parameters to the object. Then, call the member function *Statistics.sum_statistics* without any arguments. Store the dict that is returned by *Statistics.sum_statistics* as a new member variable called *stat_dict*.\n",
    "\n",
    ":param    seq1:  sequence of numerical values (same length as 'seq2')\n",
    ":type     seq1:  tuple of scalars\n",
    ":param    seq2:  sequence of numerical values (same length as 'seq1')\n",
    ":type     seq2:  list of scalars\n",
    ":param factor1:  weight for elements in 'seq1'; default: 1\n",
    ":type  factor1:  scalar\n",
    ":param factor2:  weight for elements in 'seq2'; default: 1\n",
    ":type  factor2:  scalar\n",
    ":return:         dict of statistics of the weighted sum of 'seq1' and 'seq2'\n",
    ":rtype:          dict (type of keys: str, type of values: numerical)\n",
    "\"\"\"\n",
    "- - - -\n",
    "</pre>\n",
    "\n",
    "Also, declare a member function called *sum_statistics* that behaves exactly like in the previous (not OOP) part, but does not require any parameters and instead uses the member variables. The function still is supposed to return a dict with the statistics.\n",
    "\n",
    "Lastly, write a member function *print_statistics* that also doesnt require a dictionary as a parameter, but uses the member variable *stat_dict* instead. It is still required to need a boolean *flag_print* parameter. The remaining behaviour is the same as in the previous implementation.\n",
    "\n"
   ]
  },
  {
   "cell_type": "code",
   "execution_count": 72,
   "metadata": {},
   "outputs": [],
   "source": [
    "class Statistics:\n",
    "    \n",
    "    \n",
    "\n",
    "    def __init__(self, seq1, seq2, factor1 = 1, factor2 = 2, stats = None, flag = False):\n",
    "        \n",
    "        \n",
    "        \"\"\"\n",
    "        Attach each of the provided parameters to the object. Then, call the member function *Statistics.sum_statistics* without any arguments. Store the dict that is returned by *Statistics.sum_statistics* as a new member variable called *stat_dict*.\n",
    "\n",
    "        :param    seq1:  sequence of numerical values (same length as 'seq2')\n",
    "        :type     seq1:  tuple of scalars\n",
    "        :param    seq2:  sequence of numerical values (same length as 'seq1')\n",
    "        :type     seq2:  list of scalars\n",
    "        :param factor1:  weight for elements in 'seq1'; default: 1\n",
    "        :type  factor1:  scalar\n",
    "        :param factor2:  weight for elements in 'seq2'; default: 1\n",
    "        :type  factor2:  scalar\n",
    "        :return:         dict of statistics of the weighted sum of 'seq1' and 'seq2'\n",
    "        :rtype:          dict (type of keys: str, type of values: numerical)\n",
    "        \"\"\"\n",
    "        \n",
    "        \n",
    "        # TODO: attach parameters to the object\n",
    "        \n",
    "        self.seq1 = seq1\n",
    "        self.seq2 = seq2\n",
    "        self.factor1 = factor1\n",
    "        self.factor2 = factor2\n",
    "        self.stats = stats\n",
    "        self.flag_print = flag\n",
    "        \n",
    "    # TODO: call self.sum_statistics() and store result in self.stat_dict\n",
    "    \n",
    "    # TODO: sum_statistics(self)\n",
    "\n",
    "    def sum_statistics(self):\n",
    "        \n",
    "        \"\"\"\n",
    "        Perform an element-wise addition of the values in the given tuple and list of same length, \n",
    "        compute statistics on the resulting sum (i.e. mean, maximum, minimum) and \n",
    "        store them in a dict where the keys are the name of the statistic \n",
    "        and the values their corresponding value. \n",
    "        It is possible to specify a scalar weight of the elements in the sum for each the tuple as well as the list.\n",
    "\n",
    "        :param    seq1:  sequence of numerical values (same length as 'seq2')\n",
    "        :type     seq1:  tuple of scalars\n",
    "        :param    seq2:  sequence of numerical values (same length as 'seq1')\n",
    "        :type     seq2:  list of scalars\n",
    "        :param factor1:  weight for elements in 'seq1'; default: 1\n",
    "        :type  factor1:  scalar\n",
    "        :param factor2:  weight for elements in 'seq2'; default: 1\n",
    "        :type  factor2:  scalar\n",
    "        :return:         dict of statistics of the weighted sum of 'seq1' and 'seq2'\n",
    "        :rtype:          dict (type of keys: str, type of values: numerical)\n",
    "\n",
    "        \"\"\"\n",
    "\n",
    "        if len(self.seq1) == len(self.seq2):\n",
    "            seq3 = np.sum((self.factor1*np.array(self.seq1),self.factor2*np.array(self.seq2)),axis = 0)\n",
    "\n",
    "            mean = np.mean(seq3)\n",
    "            minimum = min(seq3)\n",
    "            maximum = max(seq3)\n",
    "\n",
    "            dict_out = {\"mean\" : mean,\n",
    "                       \"minimum\" : minimum,\n",
    "                       \"maximum\" : maximum}\n",
    "            \n",
    "            self.stats = dict_out\n",
    "\n",
    "            return dict_out\n",
    "\n",
    "        else:\n",
    "\n",
    "            print('Sequences of different length. Please provide sequences of the same length')\n",
    "            print('Length of sequence 1: {} // Length of sequence 2: {}'.format(len(self.seq1),len(self.seq2)))\n",
    "\n",
    "            return _\n",
    "\n",
    "    \n",
    "    \n",
    "    # TODO: print_statistics(self)\n",
    "    \n",
    "    def print_statistics(self):\n",
    "    \n",
    "        \"\"\"\n",
    "        Create a string representation of the given dict of statistics in the following format:\n",
    "\n",
    "         ''' Resulting statistics (number of statistics = n): '''\n",
    "         '''    name_of_stat_1: value_of_stat_1               '''\n",
    "         '''    name_of_stat_2: value_of_stat_2               '''\n",
    "         '''       .                                          '''\n",
    "         '''       .                                          '''\n",
    "         '''       .                                          '''\n",
    "         '''    name_of_stat_n: value_of_stat_n               '''\n",
    "\n",
    "        Depending on the chosen flag, the function either returns the string representation or directly prints it.\n",
    "\n",
    "        :param      stats:  dict of statistics (key: name of statistic, value: value of statistic)\n",
    "        :type       stats:  dict (type of keys: str, type of values: numerical)\n",
    "        :param flag_print:  indicate if string representation should be printed or returned;\n",
    "                             True: print it, return nothing; False: do not print it, return string\n",
    "        :type  flag_print:  bool\n",
    "        :return:            either nothing or the string representation (depending on 'flag_print')\n",
    "        :rtype:             None OR str\n",
    "        \"\"\"\n",
    "\n",
    "        k = self.stats.keys()\n",
    "        v = self.stats.values()\n",
    "\n",
    "        print(\"\\n''' Resulting statistics (number of statistics = {}): '''\\n\".format(len(k)))\n",
    "\n",
    "\n",
    "        for key,value in zip(k,v):\n",
    "\n",
    "            if self.flag_print:\n",
    "\n",
    "                print(\"'''    {}: {}               '''\\n\".format(repr(key),value))\n",
    "\n",
    "\n",
    "            else:\n",
    "\n",
    "                print(\"'''    {}: {}               '''\\n\".format(repr(key),value))\n",
    "\n",
    "        if self.flag_print:\n",
    "\n",
    "            return repr(k)"
   ]
  },
  {
   "cell_type": "code",
   "execution_count": 74,
   "metadata": {},
   "outputs": [
    {
     "name": "stdout",
     "output_type": "stream",
     "text": [
      "<class '__main__.Statistics'>\n",
      "\n",
      "''' Resulting statistics (number of statistics = 3): '''\n",
      "\n",
      "'''    'mean': 17.5               '''\n",
      "\n",
      "'''    'minimum': 0               '''\n",
      "\n",
      "'''    'maximum': 35               '''\n",
      "\n",
      "dict_keys(['mean', 'minimum', 'maximum'])\n"
     ]
    }
   ],
   "source": [
    "# TODO create a new Statistics object by providing appropriate init values\n",
    "\n",
    "st = Statistics(a, b, 3, 4, None, True)\n",
    "\n",
    "# TODO print the type of the new object instance\n",
    "\n",
    "print(type(st))\n",
    "\n",
    "# TODO call print_statistics method of the new Statistics instance\n",
    "\n",
    "sta = st.sum_statistics()\n",
    "rep = st.print_statistics()\n",
    "\n",
    "print(rep)"
   ]
  },
  {
   "cell_type": "markdown",
   "metadata": {},
   "source": [
    "# Congratulations\n",
    "\n",
    "Good job! :) You made it to the end! More fun with python in the Labs"
   ]
  }
 ],
 "metadata": {
  "kernelspec": {
   "display_name": "Python 3",
   "language": "python",
   "name": "python3"
  },
  "language_info": {
   "codemirror_mode": {
    "name": "ipython",
    "version": 3
   },
   "file_extension": ".py",
   "mimetype": "text/x-python",
   "name": "python",
   "nbconvert_exporter": "python",
   "pygments_lexer": "ipython3",
   "version": "3.7.3"
  }
 },
 "nbformat": 4,
 "nbformat_minor": 1
}
